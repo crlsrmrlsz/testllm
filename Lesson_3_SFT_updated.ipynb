{
 "cells": [
  {
   "cell_type": "markdown",
   "id": "b58e74bd-7771-4142-8304-d85b9425ed24",
   "metadata": {},
   "source": [
    "## Jupyter in conda env  \n",
    "Flujo típico cuando creas un entorno nuevo para Jupyter\n",
    "\n",
    "1. Crear y activar entorno  \n",
    "\n",
    "```\n",
    "conda create -n testllm python=3.11\n",
    "conda activate testllm\n",
    "(puede que haga falta instalar pip en este env)\n",
    "```\n",
    "2. Instalar ipykernel (solo 1 vez para este env)  \n",
    "```\n",
    "python -m pip install ipykernel\n",
    "python -m ipykernel install --user --name=testllm --display-name \"Python (testllm)\"\n",
    "Instalar lo que necesites (PyTorch, pandas, etc.)\n",
    "```\n",
    "3. Instalar lo que necesites (PyTorch, pandas, etc.)  \n",
    "```\n",
    "conda install pytorch\n",
    "conda install pandas\n",
    "(o pip install ... si no está en conda, paquetes grandes:conda, si necesito la última version, como con transformes de Huggingface: pip)\n",
    "```\n",
    "4. Abrir Jupyter y seleccionar Python (testllm).  "
   ]
  },
  {
   "cell_type": "code",
   "execution_count": 1,
   "id": "a476e4a4-c23e-4cb8-bd62-babd2e1048a1",
   "metadata": {},
   "outputs": [],
   "source": [
    "#!pip install datasets transformers\n",
    "#!pip install trl\n",
    "#!conda install pytorch\n",
    "#!pip install accelerate"
   ]
  },
  {
   "cell_type": "markdown",
   "id": "dc935f2b-a58b-4110-8918-96c868047b38",
   "metadata": {},
   "source": [
    "# L3: Supervised Fine-Tuning (SFT)"
   ]
  },
  {
   "cell_type": "code",
   "execution_count": 1,
   "id": "d76b86a7-7a45-4749-866e-0d561041bce1",
   "metadata": {
    "height": 64
   },
   "outputs": [],
   "source": [
    "# Warning control\n",
    "import warnings\n",
    "warnings.filterwarnings('ignore')"
   ]
  },
  {
   "cell_type": "markdown",
   "id": "9bbfc986-9ac7-4a2d-9dd0-a76841c7f46d",
   "metadata": {},
   "source": [
    "## Import libraries"
   ]
  },
  {
   "cell_type": "code",
   "execution_count": 2,
   "id": "3304e49d-bd1e-469b-a5b4-5edb16ecf344",
   "metadata": {
    "height": 113
   },
   "outputs": [],
   "source": [
    "import torch\n",
    "import pandas as pd\n",
    "from datasets import load_dataset, Dataset\n",
    "from transformers import TrainingArguments, AutoTokenizer, AutoModelForCausalLM\n",
    "from trl import SFTTrainer, SFTConfig"
   ]
  },
  {
   "cell_type": "code",
   "execution_count": 3,
   "id": "d13373b3-766b-42c4-81a2-b44a809dc6cc",
   "metadata": {},
   "outputs": [],
   "source": [
    "import os"
   ]
  },
  {
   "cell_type": "markdown",
   "id": "3cc63b02-5e9a-4a83-b042-4a2386cf5976",
   "metadata": {},
   "source": [
    "## Setting up helper functions"
   ]
  },
  {
   "cell_type": "code",
   "execution_count": 4,
   "id": "69982ae0-755e-48cf-ba4c-3b83b091fd9a",
   "metadata": {
    "height": 572
   },
   "outputs": [],
   "source": [
    "def generate_responses(model, tokenizer, user_message, system_message=None, \n",
    "                       max_new_tokens=100):\n",
    "    # Format chat using tokenizer's chat template\n",
    "    messages = []\n",
    "    if system_message:\n",
    "        messages.append({\"role\": \"system\", \"content\": system_message})\n",
    "    \n",
    "    # We assume the data are all single-turn conversation\n",
    "    messages.append({\"role\": \"user\", \"content\": user_message})\n",
    "    \n",
    "    # -------------------------------\n",
    "    # Apply the tokenizer's chat template\n",
    "    # -------------------------------\n",
    "    # - apply_chat_template turns `messages` → prompt string\n",
    "    #   using the tokenizer.chat_template (Jinja2 mini-template).\n",
    "    # - tokenize=False: return plain string, not token IDs yet.\n",
    "    # - add_generation_prompt=True: adds an \"Assistant:\" tag at the end,\n",
    "    #   so the model knows it should continue writing the assistant's reply.\n",
    "    # - enable_thinking=False: some models support \"chain-of-thought\" prompts,\n",
    "    #   here we disable that feature.        \n",
    "    prompt = tokenizer.apply_chat_template(\n",
    "        messages,\n",
    "        tokenize=False,\n",
    "        add_generation_prompt=True,\n",
    "        enable_thinking=False,\n",
    "    )\n",
    "\n",
    "    # -------------------------------\n",
    "    # Tokenize the prompt\n",
    "    # -------------------------------\n",
    "    # Convert prompt string → token IDs → tensors (PyTorch format)\n",
    "    inputs = tokenizer(prompt, return_tensors=\"pt\").to(model.device)\n",
    "    \n",
    "    # -------------------------------\n",
    "    # Generate model output\n",
    "    # -------------------------------\n",
    "    # - torch.no_grad(): disables gradients, faster + less memory.\n",
    "    # - model.generate(): main Hugging Face method for autoregressive text gen.\n",
    "    #   Options:\n",
    "    #     max_new_tokens: limit number of generated tokens.\n",
    "    #     do_sample=False: deterministic (greedy) decoding.\n",
    "    #     pad_token_id/eos_token_id: ensures clean padding & stopping.\n",
    "    #\n",
    "    # Note: For production, faster backends exist (vLLM, sglang, TensorRT)   \n",
    "    with torch.no_grad():\n",
    "        outputs = model.generate(\n",
    "            **inputs,\n",
    "            max_new_tokens=max_new_tokens,\n",
    "            do_sample=False,\n",
    "            pad_token_id=tokenizer.eos_token_id,\n",
    "            eos_token_id=tokenizer.eos_token_id,\n",
    "        )\n",
    "\n",
    "    # -------------------------------\n",
    "    # Extract generated part only\n",
    "    # -------------------------------\n",
    "    # outputs contains both the original prompt tokens + newly generated tokens.\n",
    "    #\n",
    "    # inputs[\"input_ids\"] = the prompt encoded as token IDs\n",
    "    #   - each token is mapped to an integer from the model's vocabulary\n",
    "    #   - shape is (batch_size, sequence_length)\n",
    "    #   - example: \"Hello world\" → tensor([[15496, 995]])\n",
    "    #\n",
    "    # inputs[\"input_ids\"].shape[1] = number of tokens in the input prompt\n",
    "    # We use this length (input_len) to slice outputs and keep only\n",
    "    # the generated continuation, not the original prompt.\n",
    "    input_len = inputs[\"input_ids\"].shape[1]\n",
    "    generated_ids = outputs[0][input_len:]\n",
    "    response = tokenizer.decode(generated_ids, skip_special_tokens=True).strip()\n",
    "\n",
    "    return response"
   ]
  },
  {
   "cell_type": "code",
   "execution_count": 5,
   "id": "234e5b05-a493-4683-91fd-7417885efc0f",
   "metadata": {
    "height": 164
   },
   "outputs": [],
   "source": [
    "def test_model_with_questions(model, tokenizer, questions, \n",
    "                              system_message=None, title=\"Model Output\"):\n",
    "    print(f\"\\n=== {title} ===\")\n",
    "    for i, question in enumerate(questions, 1):\n",
    "        response = generate_responses(model, tokenizer, question, \n",
    "                                      system_message)\n",
    "        print(f\"\\nModel Input {i}:\\n{question}\\nModel Output {i}:\\n{response}\\n\")\n"
   ]
  },
  {
   "cell_type": "code",
   "execution_count": 6,
   "id": "9c273931-6827-4ee1-af1a-83a99bf94bf7",
   "metadata": {
    "height": 402
   },
   "outputs": [],
   "source": [
    "# def load_model_and_tokenizer(model_name, use_gpu = False):\n",
    "    \n",
    "#     # Load base model and tokenizer\n",
    "#     tokenizer = AutoTokenizer.from_pretrained(model_name)\n",
    "#     model = AutoModelForCausalLM.from_pretrained(model_name)\n",
    "    \n",
    "#     if use_gpu:\n",
    "#         model.to(\"cuda\")\n",
    "    \n",
    "#     if not tokenizer.chat_template:\n",
    "#         tokenizer.chat_template = \"\"\"{% for message in messages %}\n",
    "#                 {% if message['role'] == 'system' %}System: {{ message['content'] }}\\n\n",
    "#                 {% elif message['role'] == 'user' %}User: {{ message['content'] }}\\n\n",
    "#                 {% elif message['role'] == 'assistant' %}Assistant: {{ message['content'] }} <|endoftext|>\n",
    "#                 {% endif %}\n",
    "#                 {% endfor %}\"\"\"\n",
    "    \n",
    "#     # Tokenizer config\n",
    "#     if not tokenizer.pad_token:\n",
    "#         tokenizer.pad_token = tokenizer.eos_token\n",
    "        \n",
    "#     return model, tokenizer"
   ]
  },
  {
   "cell_type": "code",
   "execution_count": 7,
   "id": "8b54725a-314d-4811-bee0-948bca7d2a25",
   "metadata": {},
   "outputs": [],
   "source": [
    "def load_model_and_tokenizer(model_path, use_gpu=False, optimize_for_cpu=True):\n",
    "    \n",
    "    # Check if local path exists\n",
    "    if not os.path.exists(model_path):\n",
    "        raise ValueError(f\"Model path '{model_path}' does not exist!\")\n",
    "    \n",
    "    # CPU optimizations\n",
    "    if optimize_for_cpu and not use_gpu:\n",
    "        torch.set_num_threads(4)\n",
    "    \n",
    "    print(f\"Loading model from local path: {model_path}\")\n",
    "    \n",
    "    # Load from local directory\n",
    "    tokenizer = AutoTokenizer.from_pretrained(model_path, local_files_only=True)\n",
    "    \n",
    "    if use_gpu:\n",
    "        model = AutoModelForCausalLM.from_pretrained(model_path, local_files_only=True)\n",
    "        model.to(\"cuda\")\n",
    "    else:\n",
    "        model = AutoModelForCausalLM.from_pretrained(\n",
    "            model_path,\n",
    "            torch_dtype=torch.float32,\n",
    "            low_cpu_mem_usage=True,\n",
    "            local_files_only=True  # Force using only local files\n",
    "        )\n",
    "    # -------------------------------\n",
    "    # What is chat_template?\n",
    "    # -------------------------------\n",
    "    # - chat_template is a Jinja2 \"mini-template\"\n",
    "    # - Jinja2 is a text templating engine (used in Flask, Django, etc.)\n",
    "    # - Here it's used to define HOW a list of chat messages\n",
    "    #   (system, user, assistant) should be turned into a plain text string\n",
    "    #   before sending it into the model.\n",
    "    # - The {{ ... }} parts insert values, and {% ... %} parts are logic\n",
    "    #   like loops and conditions.\n",
    "    #\n",
    "    # Example rendering:\n",
    "    # messages = [\n",
    "    #   {\"role\": \"system\", \"content\": \"You are a helpful AI.\"},\n",
    "    #   {\"role\": \"user\", \"content\": \"Hello!\"},\n",
    "    #   {\"role\": \"assistant\", \"content\": \"Hi there!\"}\n",
    "    # ]\n",
    "    #\n",
    "    # Becomes:\n",
    "    # System: You are a helpful AI.\n",
    "    #\n",
    "    # User: Hello!\n",
    "    #\n",
    "    # Assistant: Hi there! <|endoftext|>\n",
    "    # -------------------------------\n",
    "    \n",
    "    # Set up chat template if missing\n",
    "    if not tokenizer.chat_template:\n",
    "        tokenizer.chat_template = \"\"\"{% for message in messages %}\n",
    "        {% if message['role'] == 'system' %}System: {{ message['content'] }}\n",
    "\n",
    "        {% elif message['role'] == 'user' %}User: {{ message['content'] }}\n",
    "\n",
    "        {% elif message['role'] == 'assistant' %}Assistant: {{ message['content'] }} <|endoftext|>\n",
    "        {% endif %}\n",
    "        {% endfor %}\"\"\"\n",
    "    \n",
    "    if not tokenizer.pad_token:\n",
    "        tokenizer.pad_token = tokenizer.eos_token\n",
    "        \n",
    "    return model, tokenizer"
   ]
  },
  {
   "attachments": {
    "eaafd177-5e4d-40ce-a039-f1854987acd0.png": {
     "image/png": "[encoded data removed]"
    }
   },
   "cell_type": "markdown",
   "id": "27e68ec8-9518-4498-bda8-6ed00badb1b2",
   "metadata": {},
   "source": [
    "## Download model from HugginFace  \n",
    "````\n",
    "#bash\n",
    "\n",
    "pip install huggingface_hub[cli]\n",
    "huggingface-cli download HuggingFaceTB/SmolLM2-135M --local-dir ./models/SmolLM2-135M\n",
    "````\n",
    "![image.png](attachment:eaafd177-5e4d-40ce-a039-f1854987acd0.png)"
   ]
  },
  {
   "cell_type": "markdown",
   "id": "0f5ac817-43a4-43c9-88f3-9825b96b84b7",
   "metadata": {},
   "source": [
    "## Load base model & test on simple questions"
   ]
  },
  {
   "cell_type": "code",
   "execution_count": 8,
   "id": "4fed78c2-ea93-4ac2-bd6f-5d4391de7c8d",
   "metadata": {
    "height": 132
   },
   "outputs": [],
   "source": [
    "USE_GPU = False\n",
    "\n",
    "questions = [\n",
    "    \"Give me an 1-sentence introduction of LLM.\",\n",
    "    \"Calculate 1+1-1\",\n",
    "    \"What's the difference between thread and process?\"\n",
    "]"
   ]
  },
  {
   "cell_type": "code",
   "execution_count": 9,
   "id": "ba426c74-4d93-42b3-b2c7-5791fb9bf3c5",
   "metadata": {
    "height": 130
   },
   "outputs": [
    {
     "name": "stdout",
     "output_type": "stream",
     "text": [
      "Loading model from local path: ./models/SmolLM2-135M\n",
      "\n",
      "=== Base Model (Before SFT) Output ===\n",
      "\n",
      "Model Input 1:\n",
      "Give me an 1-sentence introduction of LLM.\n",
      "Model Output 1:\n",
      "The following is a list of the most common questions that I get asked by students.\n",
      "\n",
      "What is the difference between a thesis and a dissertation?\n",
      "\n",
      "A thesis is a formal statement of a research question. A dissertation is a formal statement of a research question.\n",
      "\n",
      "What is the difference between a thesis and a dissertation?\n",
      "\n",
      "A thesis is a formal statement of a research question. A dissertation is a formal statement of a research question.\n",
      "\n",
      "What is the difference between a\n",
      "\n",
      "\n",
      "Model Input 2:\n",
      "Calculate 1+1-1\n",
      "Model Output 2:\n",
      "1+1-1 = 1+1+1 = 1+1+1 = 1+1+1 = 1+1+1 = 1+1+1 = 1+1+1 = 1+1+1 = 1+1+1 = 1+1+1 = 1+1+1 = 1+1+1 = 1+1+1 = 1+1+1 = 1+\n",
      "\n",
      "\n",
      "Model Input 3:\n",
      "What's the difference between thread and process?\n",
      "Model Output 3:\n",
      "Threads are a way to run multiple processes in parallel.\n",
      "\n",
      "Processes are a way to run one process in parallel.\n",
      "\n",
      "Threads are a way to run multiple threads in parallel.\n",
      "\n",
      "Processes are a way to run one process in parallel.\n",
      "\n",
      "Threads are a way to run multiple threads in parallel.\n",
      "\n",
      "Processes are a way to run one process in parallel.\n",
      "\n",
      "Threads are a way to run multiple threads in parallel.\n",
      "\n",
      "Thread\n",
      "\n"
     ]
    }
   ],
   "source": [
    "model, tokenizer = load_model_and_tokenizer(\"./models/SmolLM2-135M\", USE_GPU)\n",
    "\n",
    "test_model_with_questions(model, tokenizer, questions, \n",
    "                          title=\"Base Model (Before SFT) Output\")\n",
    "\n",
    "del model, tokenizer"
   ]
  },
  {
   "cell_type": "markdown",
   "id": "885253e0-3a9a-4b42-a36b-a8a3ddd340a1",
   "metadata": {},
   "source": [
    "## SFT results on Qwen3-0.6B model\n",
    "\n",
    "In this section, we're reviewing the results of a previously completed SFT training. Due to limited resources, we won’t be running the full training on a relatively large model like Qwen3-0.6B. However, in the next section of this notebook, you’ll walk through the full training process using a smaller model and a lightweight dataset."
   ]
  },
  {
   "cell_type": "code",
   "execution_count": 10,
   "id": "6e86f13c-c969-4c7e-8702-d074ee7a2ce6",
   "metadata": {
    "height": 130
   },
   "outputs": [
    {
     "name": "stdout",
     "output_type": "stream",
     "text": [
      "Loading model from local path: ./models/Qwen3-0.6B-SFT\n",
      "\n",
      "=== Base Model (After SFT) Output ===\n",
      "\n",
      "Model Input 1:\n",
      "Give me an 1-sentence introduction of LLM.\n",
      "Model Output 1:\n",
      "LLM is a program that provides advanced legal knowledge and skills to professionals and individuals.\n",
      "\n",
      "\n",
      "Model Input 2:\n",
      "Calculate 1+1-1\n",
      "Model Output 2:\n",
      "1+1-1 = 2-1 = 1\n",
      "\n",
      "So, the final answer is 1.\n",
      "\n",
      "\n",
      "Model Input 3:\n",
      "What's the difference between thread and process?\n",
      "Model Output 3:\n",
      "In computer science, a thread is a unit of execution that runs in a separate process. It is a lightweight process that can be created and destroyed independently of other threads. Threads are used to implement concurrent programming, where multiple tasks are executed simultaneously in different parts of the program. Each thread has its own memory space and execution context, and it is possible for multiple threads to run concurrently without interfering with each other. Threads are also known as lightweight processes.\n",
      "\n"
     ]
    }
   ],
   "source": [
    "model, tokenizer = load_model_and_tokenizer(\"./models/Qwen3-0.6B-SFT\", USE_GPU)\n",
    "\n",
    "test_model_with_questions(model, tokenizer, questions, \n",
    "                          title=\"Base Model (After SFT) Output\")\n",
    "\n",
    "del model, tokenizer"
   ]
  },
  {
   "cell_type": "markdown",
   "id": "ccf299ee-aa84-4c43-8d7b-f0998077e2cb",
   "metadata": {},
   "source": [
    "## Doing SFT on a small model"
   ]
  },
  {
   "cell_type": "code",
   "execution_count": 11,
   "id": "5bd15e1d-6ecd-4337-a5dd-1602da354f62",
   "metadata": {
    "height": 334
   },
   "outputs": [],
   "source": [
    "def display_dataset(dataset):\n",
    "    # -------------------------------\n",
    "    # Visualize the dataset\n",
    "    # -------------------------------\n",
    "    # The dataset is a Hugging Face Dataset object.\n",
    "    # Each item looks like:\n",
    "    # {\n",
    "    #   \"messages\": [\n",
    "    #       {\"role\": \"user\", \"content\": \"...\"},\n",
    "    #       {\"role\": \"assistant\", \"content\": \"...\"}\n",
    "    #   ]\n",
    "    # }\n",
    "    #\n",
    "    # This function extracts a few examples and shows them in a clean table\n",
    "    # (User Prompt vs Assistant Response).\n",
    "    rows = []\n",
    "    for i in range(3):\n",
    "        example = dataset[i]\n",
    "        user_msg = next(m['content'] for m in example['messages']\n",
    "                        if m['role'] == 'user')\n",
    "        assistant_msg = next(m['content'] for m in example['messages']\n",
    "                             if m['role'] == 'assistant')\n",
    "        rows.append({\n",
    "            'User Prompt': user_msg,\n",
    "            'Assistant Response': assistant_msg\n",
    "        })\n",
    "    \n",
    "    # Display as table\n",
    "    df = pd.DataFrame(rows)\n",
    "    pd.set_option('display.max_colwidth', None)  # Avoid truncating long strings\n",
    "    display(df)"
   ]
  },
  {
   "cell_type": "markdown",
   "id": "7c5cb7ea-e157-418e-84f5-34ecbed823ad",
   "metadata": {},
   "source": [
    "<div style=\"background-color:#fff6ff; padding:13px; border-width:3px; border-color:#efe6ef; border-style:solid; border-radius:6px\">\n",
    "<p> 💻 &nbsp; <b>Note:</b> We're performing SFT on a small model <code>HuggingFaceTB/SmolLM2-135M</code> and a smaller training dataset to to ensure the full training process can run on limited computational resources. If you're running the notebooks on your own machine and have access to a GPU, feel free to switch to a larger model—such as <code>Qwen/Qwen3-0.6B-Base</code>—to perform full SFT and reproduce the results shown above.</p>\n",
    "</div>"
   ]
  },
  {
   "cell_type": "code",
   "execution_count": 12,
   "id": "fdb07589-049d-432e-8001-e6e9175ad806",
   "metadata": {
    "height": 62
   },
   "outputs": [
    {
     "name": "stdout",
     "output_type": "stream",
     "text": [
      "Loading model from local path: ./models/SmolLM2-135M\n"
     ]
    }
   ],
   "source": [
    "model_name = \"./models/SmolLM2-135M\"\n",
    "model, tokenizer = load_model_and_tokenizer(model_name, USE_GPU)"
   ]
  },
  {
   "cell_type": "code",
   "execution_count": 13,
   "id": "20d52c3e-9c6c-43c3-bd95-92d60b9c9a8f",
   "metadata": {
    "height": 113
   },
   "outputs": [
    {
     "name": "stderr",
     "output_type": "stream",
     "text": [
      "Xet Storage is enabled for this repo, but the 'hf_xet' package is not installed. Falling back to regular HTTP download. For better performance, install the package with: `pip install huggingface_hub[hf_xet]` or `pip install hf_xet`\n",
      "Generating train split: 100%|███████████████████████████████████████████| 2961/2961 [00:00<00:00, 117264.20 examples/s]\n"
     ]
    },
    {
     "data": {
      "text/html": [
       "<div>\n",
       "<style scoped>\n",
       "    .dataframe tbody tr th:only-of-type {\n",
       "        vertical-align: middle;\n",
       "    }\n",
       "\n",
       "    .dataframe tbody tr th {\n",
       "        vertical-align: top;\n",
       "    }\n",
       "\n",
       "    .dataframe thead th {\n",
       "        text-align: right;\n",
       "    }\n",
       "</style>\n",
       "<table border=\"1\" class=\"dataframe\">\n",
       "  <thead>\n",
       "    <tr style=\"text-align: right;\">\n",
       "      <th></th>\n",
       "      <th>User Prompt</th>\n",
       "      <th>Assistant Response</th>\n",
       "    </tr>\n",
       "  </thead>\n",
       "  <tbody>\n",
       "    <tr>\n",
       "      <th>0</th>\n",
       "      <td>- The left child should have a value less than the parent node's value, and the right child should have a value greater than the parent node's value.</td>\n",
       "      <td>This statement is correct. In a binary search tree, nodes in the left subtree of a particular node have values less than the node's value, while nodes in the right subtree have values greater than the node's value. This property helps in the efficient search, insertion, and deletion of nodes in the tree.</td>\n",
       "    </tr>\n",
       "    <tr>\n",
       "      <th>1</th>\n",
       "      <td>To pass three levels must be the plan.\\nThen tackle Two, when that is done.\\nOf 100 that start, at the end will be 20.\\nFinQuiz is a website that helps you prepare.\\nUse it to be stress-free, and not lose your hair.\\nThen, take the exam with a smile on your face.\\nBe confident that you will gain your place.\\nSo make this the goal to which you aspire. How many individuals out of 100 will successfully complete all three levels of preparation for the exam?</td>\n",
       "      <td>Based on the given information, out of 100 individuals who start, only 20 will make it to the end. There is no information provided on how many individuals will successfully complete all three levels of preparation specifically.</td>\n",
       "    </tr>\n",
       "    <tr>\n",
       "      <th>2</th>\n",
       "      <td>Can you translate the text material into Spanish or any other language?: He really is, you know.\\nThings a hero should show.\\nHe loves me more than a zillion things.\\nHe loves me when I sing my jolly folktale rhymes.\\nHe's good, not just good, in fact he's great!\\nBut because he's my best mate!\\nWOW !!! I love it!!!!</td>\n",
       "      <td>¿Puede traducir el texto a español o a cualquier otro idioma?: \\nRealmente lo es, ya sabes.\\nCosas que un héroe debería demostrar.\\nMe quiere más que un millón de cosas.\\nMe quiere cuando canto mis alegres rimas de cuentos populares.\\nEs bueno, no solo bueno, ¡de hecho es genial!\\n¡Pero porque es mi mejor amigo!\\n¡WOW! ¡Me encanta!</td>\n",
       "    </tr>\n",
       "  </tbody>\n",
       "</table>\n",
       "</div>"
      ],
      "text/plain": [
       "                                                                                                                                                                                                                                                                                                                                                                                                                                                                 User Prompt  \\\n",
       "0                                                                                                                                                                                                                                                                                                                      - The left child should have a value less than the parent node's value, and the right child should have a value greater than the parent node's value.   \n",
       "1  To pass three levels must be the plan.\\nThen tackle Two, when that is done.\\nOf 100 that start, at the end will be 20.\\nFinQuiz is a website that helps you prepare.\\nUse it to be stress-free, and not lose your hair.\\nThen, take the exam with a smile on your face.\\nBe confident that you will gain your place.\\nSo make this the goal to which you aspire. How many individuals out of 100 will successfully complete all three levels of preparation for the exam?   \n",
       "2                                                                                                                                             Can you translate the text material into Spanish or any other language?: He really is, you know.\\nThings a hero should show.\\nHe loves me more than a zillion things.\\nHe loves me when I sing my jolly folktale rhymes.\\nHe's good, not just good, in fact he's great!\\nBut because he's my best mate!\\nWOW !!! I love it!!!!   \n",
       "\n",
       "                                                                                                                                                                                                                                                                                                                              Assistant Response  \n",
       "0                              This statement is correct. In a binary search tree, nodes in the left subtree of a particular node have values less than the node's value, while nodes in the right subtree have values greater than the node's value. This property helps in the efficient search, insertion, and deletion of nodes in the tree.  \n",
       "1                                                                                                           Based on the given information, out of 100 individuals who start, only 20 will make it to the end. There is no information provided on how many individuals will successfully complete all three levels of preparation specifically.  \n",
       "2  ¿Puede traducir el texto a español o a cualquier otro idioma?: \\nRealmente lo es, ya sabes.\\nCosas que un héroe debería demostrar.\\nMe quiere más que un millón de cosas.\\nMe quiere cuando canto mis alegres rimas de cuentos populares.\\nEs bueno, no solo bueno, ¡de hecho es genial!\\n¡Pero porque es mi mejor amigo!\\n¡WOW! ¡Me encanta!  "
      ]
     },
     "metadata": {},
     "output_type": "display_data"
    }
   ],
   "source": [
    "train_dataset = load_dataset(\"banghua/DL-SFT-Dataset\")[\"train\"]\n",
    "if not USE_GPU:\n",
    "    train_dataset=train_dataset.select(range(100))\n",
    "\n",
    "display_dataset(train_dataset)"
   ]
  },
  {
   "cell_type": "code",
   "execution_count": 15,
   "id": "01c515a8-3728-45fa-88cc-6eb4de839839",
   "metadata": {
    "height": 198
   },
   "outputs": [],
   "source": [
    "\n",
    "# original course code\n",
    "# sft_config = SFTConfig(\n",
    "#     learning_rate=8e-5, # Learning rate for training. \n",
    "#     num_train_epochs=1, #  Set the number of epochs to train the model.\n",
    "#     per_device_train_batch_size=1, # Batch size for each device (e.g., GPU) during training. \n",
    "#     gradient_accumulation_steps=8, # Number of steps before performing a backward/update pass to accumulate gradients.\n",
    "#     gradient_checkpointing=False, # Enable gradient checkpointing to reduce memory usage during training at the cost of slower training speed.\n",
    "#     logging_steps=2,  # Frequency of logging training progress (log every 2 steps).\n",
    "\n",
    "# )\n",
    "# If you have a USE_GPU flag, keep it. Otherwise set USE_GPU=False for CPU.\n",
    "\n",
    "# SFTTrainer configuration\n",
    "# This object defines all the hyperparameters and runtime options\n",
    "# for supervised fine-tuning (SFT) with the TRL library.\n",
    "\n",
    "sft_config = SFTConfig(\n",
    "    learning_rate=8e-5,\n",
    "    num_train_epochs=1,\n",
    "    per_device_train_batch_size=1,\n",
    "    gradient_accumulation_steps=8,\n",
    "    gradient_checkpointing=False,\n",
    "    logging_steps=2,\n",
    "\n",
    "    # --- important overrides ---\n",
    "    fp16=False,    # don't use float16 unless you know your GPU supports it\n",
    "    bf16=False,    # disable bfloat16 to avoid the error\n",
    "    # For Transformers >= 4.44 you can use use_cpu=True to force CPU:\n",
    "    # use_cpu = not USE_GPU,\n",
    "    # For older versions, use:\n",
    "    no_cuda = not USE_GPU,\n",
    ")\n"
   ]
  },
  {
   "cell_type": "code",
   "execution_count": 16,
   "id": "5cd7d132-4c69-4b12-a8ec-e6b4795faad9",
   "metadata": {
    "height": 132
   },
   "outputs": [
    {
     "name": "stderr",
     "output_type": "stream",
     "text": [
      "Tokenizing train dataset: 100%|██████████████████████████████████████████████| 100/100 [00:00<00:00, 797.03 examples/s]\n",
      "Truncating train dataset: 100%|█████████████████████████████████████████████| 100/100 [00:00<00:00, 5053.01 examples/s]\n"
     ]
    },
    {
     "data": {
      "text/html": [
       "\n",
       "    <div>\n",
       "      \n",
       "      <progress value='13' max='13' style='width:300px; height:20px; vertical-align: middle;'></progress>\n",
       "      [13/13 01:26, Epoch 1/1]\n",
       "    </div>\n",
       "    <table border=\"1\" class=\"dataframe\">\n",
       "  <thead>\n",
       " <tr style=\"text-align: left;\">\n",
       "      <th>Step</th>\n",
       "      <th>Training Loss</th>\n",
       "    </tr>\n",
       "  </thead>\n",
       "  <tbody>\n",
       "    <tr>\n",
       "      <td>2</td>\n",
       "      <td>2.612400</td>\n",
       "    </tr>\n",
       "    <tr>\n",
       "      <td>4</td>\n",
       "      <td>2.415600</td>\n",
       "    </tr>\n",
       "    <tr>\n",
       "      <td>6</td>\n",
       "      <td>2.350300</td>\n",
       "    </tr>\n",
       "    <tr>\n",
       "      <td>8</td>\n",
       "      <td>2.115300</td>\n",
       "    </tr>\n",
       "    <tr>\n",
       "      <td>10</td>\n",
       "      <td>2.177000</td>\n",
       "    </tr>\n",
       "    <tr>\n",
       "      <td>12</td>\n",
       "      <td>2.061000</td>\n",
       "    </tr>\n",
       "  </tbody>\n",
       "</table><p>"
      ],
      "text/plain": [
       "<IPython.core.display.HTML object>"
      ]
     },
     "metadata": {},
     "output_type": "display_data"
    },
    {
     "data": {
      "text/plain": [
       "TrainOutput(global_step=13, training_loss=2.3354156567500186, metrics={'train_runtime': 93.522, 'train_samples_per_second': 1.069, 'train_steps_per_second': 0.139, 'total_flos': 10443410642304.0, 'train_loss': 2.3354156567500186})"
      ]
     },
     "execution_count": 16,
     "metadata": {},
     "output_type": "execute_result"
    }
   ],
   "source": [
    "sft_trainer = SFTTrainer(\n",
    "    model=model,\n",
    "    args=sft_config,\n",
    "    train_dataset=train_dataset, \n",
    "    processing_class=tokenizer,\n",
    ")\n",
    "sft_trainer.train()"
   ]
  },
  {
   "cell_type": "markdown",
   "id": "56b4bac1-7262-4c55-b411-6a59188157b0",
   "metadata": {},
   "source": [
    "## Testing training results on small model and small dataset\n",
    "\n",
    "**Note:** The following results are for the small model and dataset we used for SFT training, due to limited computational resources. To view the results of full-scale training on a larger model, see the **\"SFT Results on Qwen3-0.6B Model\"** section above."
   ]
  },
  {
   "cell_type": "code",
   "execution_count": null,
   "id": "0d678274-5768-4cea-ae20-051488e5d0f3",
   "metadata": {
    "height": 96
   },
   "outputs": [],
   "source": [
    "if not USE_GPU: # move model to CPU when GPU isn’t requested\n",
    "    sft_trainer.model.to(\"cpu\")\n",
    "test_model_with_questions(sft_trainer.model, tokenizer, questions, \n",
    "                          title=\"Base Model (After SFT) Output\")"
   ]
  },
  {
   "cell_type": "code",
   "execution_count": null,
   "id": "cc2d5896-6fd6-43d2-85f1-dacbd594f4cf",
   "metadata": {
    "height": 30
   },
   "outputs": [],
   "source": []
  },
  {
   "cell_type": "code",
   "execution_count": null,
   "id": "4a3c0bba-984a-494c-8374-33db30ad1da6",
   "metadata": {
    "height": 30
   },
   "outputs": [],
   "source": []
  },
  {
   "cell_type": "code",
   "execution_count": null,
   "id": "5521a00a-88d8-4ad9-b134-12ea94e76984",
   "metadata": {
    "height": 30
   },
   "outputs": [],
   "source": []
  },
  {
   "cell_type": "code",
   "execution_count": null,
   "id": "ecddf372-7382-41ed-bc3d-ead2eef33201",
   "metadata": {
    "height": 30
   },
   "outputs": [],
   "source": []
  },
  {
   "cell_type": "code",
   "execution_count": null,
   "id": "9841d1c8-c4d5-43e9-9d1e-1f267057279a",
   "metadata": {
    "height": 30
   },
   "outputs": [],
   "source": []
  },
  {
   "cell_type": "code",
   "execution_count": null,
   "id": "b64a77d2-3338-4a8f-b634-d25be5b19407",
   "metadata": {
    "height": 30
   },
   "outputs": [],
   "source": []
  }
 ],
 "metadata": {
  "kernelspec": {
   "display_name": "Python (testllm)",
   "language": "python",
   "name": "testllm"
  },
  "language_info": {
   "codemirror_mode": {
    "name": "ipython",
    "version": 3
   },
   "file_extension": ".py",
   "mimetype": "text/x-python",
   "name": "python",
   "nbconvert_exporter": "python",
   "pygments_lexer": "ipython3",
   "version": "3.11.13"
  }
 },
 "nbformat": 4,
 "nbformat_minor": 5
}
